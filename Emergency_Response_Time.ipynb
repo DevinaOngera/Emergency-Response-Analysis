{
 "cells": [
  {
   "cell_type": "markdown",
   "metadata": {
    "id": "iLzRCxXDPk9n"
   },
   "source": [
    "Importing Libraries"
   ]
  },
  {
   "cell_type": "code",
   "execution_count": 1,
   "metadata": {
    "id": "GXJLPDMDN975"
   },
   "outputs": [],
   "source": [
    "import pandas as pd"
   ]
  },
  {
   "cell_type": "code",
   "execution_count": 2,
   "metadata": {
    "id": "HxuEvs3fMQgi"
   },
   "outputs": [],
   "source": [
    "import numpy as np"
   ]
  },
  {
   "cell_type": "code",
   "execution_count": 3,
   "metadata": {
    "colab": {
     "base_uri": "https://localhost:8080/",
     "height": 313
    },
    "id": "-YhqCh1SMnOR",
    "outputId": "36da0dac-8fe7-4cba-ce75-da6ef8c136d8"
   },
   "outputs": [
    {
     "data": {
      "text/html": [
       "\n",
       "  <div id=\"df-4ae98c81-9fa6-4f58-a4a2-6f9486a41abf\" class=\"colab-df-container\">\n",
       "    <div>\n",
       "<style scoped>\n",
       "    .dataframe tbody tr th:only-of-type {\n",
       "        vertical-align: middle;\n",
       "    }\n",
       "\n",
       "    .dataframe tbody tr th {\n",
       "        vertical-align: top;\n",
       "    }\n",
       "\n",
       "    .dataframe thead th {\n",
       "        text-align: right;\n",
       "    }\n",
       "</style>\n",
       "<table border=\"1\" class=\"dataframe\">\n",
       "  <thead>\n",
       "    <tr style=\"text-align: right;\">\n",
       "      <th></th>\n",
       "      <th>Agencyid</th>\n",
       "      <th>Event_Source</th>\n",
       "      <th>EventType</th>\n",
       "      <th>Priority</th>\n",
       "      <th>City</th>\n",
       "      <th>District</th>\n",
       "      <th>Createddate</th>\n",
       "      <th>CreationDay</th>\n",
       "      <th>CreationMonth</th>\n",
       "      <th>CreationYear</th>\n",
       "      <th>EventCreatedDateTime</th>\n",
       "      <th>EventCreatedDateTime.1</th>\n",
       "      <th>Firstunitdispatchedtime</th>\n",
       "      <th>Firstunitarrivedtime</th>\n",
       "      <th>Closingtime</th>\n",
       "      <th>Closingdate</th>\n",
       "      <th>Createdhour</th>\n",
       "      <th>Arrivaltimeinsec</th>\n",
       "      <th>ResponseTimeClosing</th>\n",
       "      <th>ResponseTime</th>\n",
       "    </tr>\n",
       "  </thead>\n",
       "  <tbody>\n",
       "    <tr>\n",
       "      <th>0</th>\n",
       "      <td>Civil Defense</td>\n",
       "      <td>Phone call</td>\n",
       "      <td>Rescue</td>\n",
       "      <td>3</td>\n",
       "      <td>Chicago</td>\n",
       "      <td>Magnificent Mile</td>\n",
       "      <td>3/1/2022</td>\n",
       "      <td>1</td>\n",
       "      <td>3</td>\n",
       "      <td>2022</td>\n",
       "      <td>1/3/2022 0:05</td>\n",
       "      <td>0:05:02</td>\n",
       "      <td>0:07:30</td>\n",
       "      <td>NaN</td>\n",
       "      <td>3:25:36</td>\n",
       "      <td>3/1/2022</td>\n",
       "      <td>0.0</td>\n",
       "      <td>NaN</td>\n",
       "      <td>200.0</td>\n",
       "      <td>2.0</td>\n",
       "    </tr>\n",
       "    <tr>\n",
       "      <th>1</th>\n",
       "      <td>Civil Defense</td>\n",
       "      <td>Phone call</td>\n",
       "      <td>Rescue</td>\n",
       "      <td>1</td>\n",
       "      <td>Chicago</td>\n",
       "      <td>Magnificent Mile</td>\n",
       "      <td>3/1/2022</td>\n",
       "      <td>1</td>\n",
       "      <td>3</td>\n",
       "      <td>2022</td>\n",
       "      <td>1/3/2022 0:14</td>\n",
       "      <td>0:14:49</td>\n",
       "      <td>0:22:46</td>\n",
       "      <td>NaN</td>\n",
       "      <td>3:25:23</td>\n",
       "      <td>3/1/2022</td>\n",
       "      <td>0.0</td>\n",
       "      <td>NaN</td>\n",
       "      <td>191.0</td>\n",
       "      <td>8.0</td>\n",
       "    </tr>\n",
       "    <tr>\n",
       "      <th>2</th>\n",
       "      <td>Civil Defense</td>\n",
       "      <td>Phone call</td>\n",
       "      <td>Rescue</td>\n",
       "      <td>2</td>\n",
       "      <td>Chicago</td>\n",
       "      <td>Lincoln Park</td>\n",
       "      <td>3/1/2022</td>\n",
       "      <td>1</td>\n",
       "      <td>3</td>\n",
       "      <td>2022</td>\n",
       "      <td>1/3/2022 0:33</td>\n",
       "      <td>0:33:48</td>\n",
       "      <td>0:34:01</td>\n",
       "      <td>NaN</td>\n",
       "      <td>0:40:49</td>\n",
       "      <td>3/1/2022</td>\n",
       "      <td>0.0</td>\n",
       "      <td>NaN</td>\n",
       "      <td>7.0</td>\n",
       "      <td>1.0</td>\n",
       "    </tr>\n",
       "    <tr>\n",
       "      <th>3</th>\n",
       "      <td>Civil Defense</td>\n",
       "      <td>Phone call</td>\n",
       "      <td>Fire</td>\n",
       "      <td>1</td>\n",
       "      <td>Chicago</td>\n",
       "      <td>Austin</td>\n",
       "      <td>3/1/2022</td>\n",
       "      <td>1</td>\n",
       "      <td>3</td>\n",
       "      <td>2022</td>\n",
       "      <td>1/3/2022 0:45</td>\n",
       "      <td>0:45:04</td>\n",
       "      <td>0:50:26</td>\n",
       "      <td>NaN</td>\n",
       "      <td>3:25:11</td>\n",
       "      <td>3/1/2022</td>\n",
       "      <td>0.0</td>\n",
       "      <td>NaN</td>\n",
       "      <td>160.0</td>\n",
       "      <td>5.0</td>\n",
       "    </tr>\n",
       "    <tr>\n",
       "      <th>4</th>\n",
       "      <td>Civil Defense</td>\n",
       "      <td>Phone call</td>\n",
       "      <td>Fire</td>\n",
       "      <td>1</td>\n",
       "      <td>Chicago</td>\n",
       "      <td>Oakland</td>\n",
       "      <td>3/1/2022</td>\n",
       "      <td>1</td>\n",
       "      <td>3</td>\n",
       "      <td>2022</td>\n",
       "      <td>1/3/2022 0:47</td>\n",
       "      <td>0:47:01</td>\n",
       "      <td>0:48:32</td>\n",
       "      <td>NaN</td>\n",
       "      <td>3:24:37</td>\n",
       "      <td>3/1/2022</td>\n",
       "      <td>0.0</td>\n",
       "      <td>NaN</td>\n",
       "      <td>157.0</td>\n",
       "      <td>1.0</td>\n",
       "    </tr>\n",
       "  </tbody>\n",
       "</table>\n",
       "</div>\n",
       "    <div class=\"colab-df-buttons\">\n",
       "\n",
       "  <div class=\"colab-df-container\">\n",
       "    <button class=\"colab-df-convert\" onclick=\"convertToInteractive('df-4ae98c81-9fa6-4f58-a4a2-6f9486a41abf')\"\n",
       "            title=\"Convert this dataframe to an interactive table.\"\n",
       "            style=\"display:none;\">\n",
       "\n",
       "  <svg xmlns=\"http://www.w3.org/2000/svg\" height=\"24px\" viewBox=\"0 -960 960 960\">\n",
       "    <path d=\"M120-120v-720h720v720H120Zm60-500h600v-160H180v160Zm220 220h160v-160H400v160Zm0 220h160v-160H400v160ZM180-400h160v-160H180v160Zm440 0h160v-160H620v160ZM180-180h160v-160H180v160Zm440 0h160v-160H620v160Z\"/>\n",
       "  </svg>\n",
       "    </button>\n",
       "\n",
       "  <style>\n",
       "    .colab-df-container {\n",
       "      display:flex;\n",
       "      gap: 12px;\n",
       "    }\n",
       "\n",
       "    .colab-df-convert {\n",
       "      background-color: #E8F0FE;\n",
       "      border: none;\n",
       "      border-radius: 50%;\n",
       "      cursor: pointer;\n",
       "      display: none;\n",
       "      fill: #1967D2;\n",
       "      height: 32px;\n",
       "      padding: 0 0 0 0;\n",
       "      width: 32px;\n",
       "    }\n",
       "\n",
       "    .colab-df-convert:hover {\n",
       "      background-color: #E2EBFA;\n",
       "      box-shadow: 0px 1px 2px rgba(60, 64, 67, 0.3), 0px 1px 3px 1px rgba(60, 64, 67, 0.15);\n",
       "      fill: #174EA6;\n",
       "    }\n",
       "\n",
       "    .colab-df-buttons div {\n",
       "      margin-bottom: 4px;\n",
       "    }\n",
       "\n",
       "    [theme=dark] .colab-df-convert {\n",
       "      background-color: #3B4455;\n",
       "      fill: #D2E3FC;\n",
       "    }\n",
       "\n",
       "    [theme=dark] .colab-df-convert:hover {\n",
       "      background-color: #434B5C;\n",
       "      box-shadow: 0px 1px 3px 1px rgba(0, 0, 0, 0.15);\n",
       "      filter: drop-shadow(0px 1px 2px rgba(0, 0, 0, 0.3));\n",
       "      fill: #FFFFFF;\n",
       "    }\n",
       "  </style>\n",
       "\n",
       "    <script>\n",
       "      const buttonEl =\n",
       "        document.querySelector('#df-4ae98c81-9fa6-4f58-a4a2-6f9486a41abf button.colab-df-convert');\n",
       "      buttonEl.style.display =\n",
       "        google.colab.kernel.accessAllowed ? 'block' : 'none';\n",
       "\n",
       "      async function convertToInteractive(key) {\n",
       "        const element = document.querySelector('#df-4ae98c81-9fa6-4f58-a4a2-6f9486a41abf');\n",
       "        const dataTable =\n",
       "          await google.colab.kernel.invokeFunction('convertToInteractive',\n",
       "                                                    [key], {});\n",
       "        if (!dataTable) return;\n",
       "\n",
       "        const docLinkHtml = 'Like what you see? Visit the ' +\n",
       "          '<a target=\"_blank\" href=https://colab.research.google.com/notebooks/data_table.ipynb>data table notebook</a>'\n",
       "          + ' to learn more about interactive tables.';\n",
       "        element.innerHTML = '';\n",
       "        dataTable['output_type'] = 'display_data';\n",
       "        await google.colab.output.renderOutput(dataTable, element);\n",
       "        const docLink = document.createElement('div');\n",
       "        docLink.innerHTML = docLinkHtml;\n",
       "        element.appendChild(docLink);\n",
       "      }\n",
       "    </script>\n",
       "  </div>\n",
       "\n",
       "\n",
       "<div id=\"df-0b4ae015-59da-4cdc-be3b-cda0fc64e192\">\n",
       "  <button class=\"colab-df-quickchart\" onclick=\"quickchart('df-0b4ae015-59da-4cdc-be3b-cda0fc64e192')\"\n",
       "            title=\"Suggest charts\"\n",
       "            style=\"display:none;\">\n",
       "\n",
       "<svg xmlns=\"http://www.w3.org/2000/svg\" height=\"24px\"viewBox=\"0 0 24 24\"\n",
       "     width=\"24px\">\n",
       "    <g>\n",
       "        <path d=\"M19 3H5c-1.1 0-2 .9-2 2v14c0 1.1.9 2 2 2h14c1.1 0 2-.9 2-2V5c0-1.1-.9-2-2-2zM9 17H7v-7h2v7zm4 0h-2V7h2v10zm4 0h-2v-4h2v4z\"/>\n",
       "    </g>\n",
       "</svg>\n",
       "  </button>\n",
       "\n",
       "<style>\n",
       "  .colab-df-quickchart {\n",
       "      --bg-color: #E8F0FE;\n",
       "      --fill-color: #1967D2;\n",
       "      --hover-bg-color: #E2EBFA;\n",
       "      --hover-fill-color: #174EA6;\n",
       "      --disabled-fill-color: #AAA;\n",
       "      --disabled-bg-color: #DDD;\n",
       "  }\n",
       "\n",
       "  [theme=dark] .colab-df-quickchart {\n",
       "      --bg-color: #3B4455;\n",
       "      --fill-color: #D2E3FC;\n",
       "      --hover-bg-color: #434B5C;\n",
       "      --hover-fill-color: #FFFFFF;\n",
       "      --disabled-bg-color: #3B4455;\n",
       "      --disabled-fill-color: #666;\n",
       "  }\n",
       "\n",
       "  .colab-df-quickchart {\n",
       "    background-color: var(--bg-color);\n",
       "    border: none;\n",
       "    border-radius: 50%;\n",
       "    cursor: pointer;\n",
       "    display: none;\n",
       "    fill: var(--fill-color);\n",
       "    height: 32px;\n",
       "    padding: 0;\n",
       "    width: 32px;\n",
       "  }\n",
       "\n",
       "  .colab-df-quickchart:hover {\n",
       "    background-color: var(--hover-bg-color);\n",
       "    box-shadow: 0 1px 2px rgba(60, 64, 67, 0.3), 0 1px 3px 1px rgba(60, 64, 67, 0.15);\n",
       "    fill: var(--button-hover-fill-color);\n",
       "  }\n",
       "\n",
       "  .colab-df-quickchart-complete:disabled,\n",
       "  .colab-df-quickchart-complete:disabled:hover {\n",
       "    background-color: var(--disabled-bg-color);\n",
       "    fill: var(--disabled-fill-color);\n",
       "    box-shadow: none;\n",
       "  }\n",
       "\n",
       "  .colab-df-spinner {\n",
       "    border: 2px solid var(--fill-color);\n",
       "    border-color: transparent;\n",
       "    border-bottom-color: var(--fill-color);\n",
       "    animation:\n",
       "      spin 1s steps(1) infinite;\n",
       "  }\n",
       "\n",
       "  @keyframes spin {\n",
       "    0% {\n",
       "      border-color: transparent;\n",
       "      border-bottom-color: var(--fill-color);\n",
       "      border-left-color: var(--fill-color);\n",
       "    }\n",
       "    20% {\n",
       "      border-color: transparent;\n",
       "      border-left-color: var(--fill-color);\n",
       "      border-top-color: var(--fill-color);\n",
       "    }\n",
       "    30% {\n",
       "      border-color: transparent;\n",
       "      border-left-color: var(--fill-color);\n",
       "      border-top-color: var(--fill-color);\n",
       "      border-right-color: var(--fill-color);\n",
       "    }\n",
       "    40% {\n",
       "      border-color: transparent;\n",
       "      border-right-color: var(--fill-color);\n",
       "      border-top-color: var(--fill-color);\n",
       "    }\n",
       "    60% {\n",
       "      border-color: transparent;\n",
       "      border-right-color: var(--fill-color);\n",
       "    }\n",
       "    80% {\n",
       "      border-color: transparent;\n",
       "      border-right-color: var(--fill-color);\n",
       "      border-bottom-color: var(--fill-color);\n",
       "    }\n",
       "    90% {\n",
       "      border-color: transparent;\n",
       "      border-bottom-color: var(--fill-color);\n",
       "    }\n",
       "  }\n",
       "</style>\n",
       "\n",
       "  <script>\n",
       "    async function quickchart(key) {\n",
       "      const quickchartButtonEl =\n",
       "        document.querySelector('#' + key + ' button');\n",
       "      quickchartButtonEl.disabled = true;  // To prevent multiple clicks.\n",
       "      quickchartButtonEl.classList.add('colab-df-spinner');\n",
       "      try {\n",
       "        const charts = await google.colab.kernel.invokeFunction(\n",
       "            'suggestCharts', [key], {});\n",
       "      } catch (error) {\n",
       "        console.error('Error during call to suggestCharts:', error);\n",
       "      }\n",
       "      quickchartButtonEl.classList.remove('colab-df-spinner');\n",
       "      quickchartButtonEl.classList.add('colab-df-quickchart-complete');\n",
       "    }\n",
       "    (() => {\n",
       "      let quickchartButtonEl =\n",
       "        document.querySelector('#df-0b4ae015-59da-4cdc-be3b-cda0fc64e192 button');\n",
       "      quickchartButtonEl.style.display =\n",
       "        google.colab.kernel.accessAllowed ? 'block' : 'none';\n",
       "    })();\n",
       "  </script>\n",
       "</div>\n",
       "    </div>\n",
       "  </div>\n"
      ],
      "text/plain": [
       "        Agencyid Event_Source EventType  Priority     City          District  \\\n",
       "0  Civil Defense   Phone call    Rescue         3  Chicago  Magnificent Mile   \n",
       "1  Civil Defense   Phone call    Rescue         1  Chicago  Magnificent Mile   \n",
       "2  Civil Defense   Phone call    Rescue         2  Chicago      Lincoln Park   \n",
       "3  Civil Defense   Phone call      Fire         1  Chicago            Austin   \n",
       "4  Civil Defense   Phone call      Fire         1  Chicago           Oakland   \n",
       "\n",
       "  Createddate  CreationDay  CreationMonth  CreationYear EventCreatedDateTime  \\\n",
       "0    3/1/2022            1              3          2022        1/3/2022 0:05   \n",
       "1    3/1/2022            1              3          2022        1/3/2022 0:14   \n",
       "2    3/1/2022            1              3          2022        1/3/2022 0:33   \n",
       "3    3/1/2022            1              3          2022        1/3/2022 0:45   \n",
       "4    3/1/2022            1              3          2022        1/3/2022 0:47   \n",
       "\n",
       "  EventCreatedDateTime.1 Firstunitdispatchedtime Firstunitarrivedtime  \\\n",
       "0                0:05:02                 0:07:30                  NaN   \n",
       "1                0:14:49                 0:22:46                  NaN   \n",
       "2                0:33:48                 0:34:01                  NaN   \n",
       "3                0:45:04                 0:50:26                  NaN   \n",
       "4                0:47:01                 0:48:32                  NaN   \n",
       "\n",
       "  Closingtime Closingdate  Createdhour  Arrivaltimeinsec  ResponseTimeClosing  \\\n",
       "0     3:25:36    3/1/2022          0.0               NaN                200.0   \n",
       "1     3:25:23    3/1/2022          0.0               NaN                191.0   \n",
       "2     0:40:49    3/1/2022          0.0               NaN                  7.0   \n",
       "3     3:25:11    3/1/2022          0.0               NaN                160.0   \n",
       "4     3:24:37    3/1/2022          0.0               NaN                157.0   \n",
       "\n",
       "   ResponseTime  \n",
       "0           2.0  \n",
       "1           8.0  \n",
       "2           1.0  \n",
       "3           5.0  \n",
       "4           1.0  "
      ]
     },
     "execution_count": 3,
     "metadata": {},
     "output_type": "execute_result"
    }
   ],
   "source": [
    "df = pd.read_csv (\"/content/updated_dataset.csv\")\n",
    "\n",
    "# Previewing the first 5 records\n",
    "df.head()"
   ]
  },
  {
   "cell_type": "code",
   "execution_count": 4,
   "metadata": {
    "colab": {
     "base_uri": "https://localhost:8080/"
    },
    "id": "Kp1iIURYQRIE",
    "outputId": "b1e2cdfc-cd53-4835-ce0f-91f5d6055da9"
   },
   "outputs": [
    {
     "name": "stdout",
     "output_type": "stream",
     "text": [
      "          Priority  CreationDay  CreationMonth  CreationYear  Createdhour  \\\n",
      "count  7545.000000  7545.000000    7545.000000        7545.0  7544.000000   \n",
      "mean      1.178661    15.659112       3.486945        2022.0    12.627519   \n",
      "std       0.486995     8.690136       0.499863           0.0     7.295284   \n",
      "min       0.000000     1.000000       3.000000        2022.0     0.000000   \n",
      "25%       1.000000     8.000000       3.000000        2022.0     6.000000   \n",
      "50%       1.000000    16.000000       3.000000        2022.0    14.000000   \n",
      "75%       1.000000    23.000000       4.000000        2022.0    19.000000   \n",
      "max       4.000000    31.000000       4.000000        2022.0    23.000000   \n",
      "\n",
      "       Arrivaltimeinsec  ResponseTimeClosing  ResponseTime  \n",
      "count        847.000000          7544.000000   7544.000000  \n",
      "mean        1231.599764            50.424576      2.815217  \n",
      "std         1974.802096            53.606583      4.814997  \n",
      "min            0.000000             0.000000      0.000000  \n",
      "25%          464.500000            20.000000      1.000000  \n",
      "50%          795.000000            36.000000      2.000000  \n",
      "75%         1341.000000            64.000000      3.000000  \n",
      "max        25043.000000          1207.000000    198.000000  \n"
     ]
    }
   ],
   "source": [
    "print(df.describe())"
   ]
  },
  {
   "cell_type": "code",
   "execution_count": 5,
   "metadata": {
    "colab": {
     "base_uri": "https://localhost:8080/"
    },
    "id": "NKE2hxjKQWiB",
    "outputId": "f88e9104-f086-4443-bcdb-792d27aca234"
   },
   "outputs": [
    {
     "name": "stdout",
     "output_type": "stream",
     "text": [
      "<class 'pandas.core.frame.DataFrame'>\n",
      "RangeIndex: 7545 entries, 0 to 7544\n",
      "Data columns (total 20 columns):\n",
      " #   Column                   Non-Null Count  Dtype  \n",
      "---  ------                   --------------  -----  \n",
      " 0   Agencyid                 7545 non-null   object \n",
      " 1   Event_Source             7545 non-null   object \n",
      " 2   EventType                7545 non-null   object \n",
      " 3   Priority                 7545 non-null   int64  \n",
      " 4   City                     7545 non-null   object \n",
      " 5   District                 7545 non-null   object \n",
      " 6   Createddate              7545 non-null   object \n",
      " 7   CreationDay              7545 non-null   int64  \n",
      " 8   CreationMonth            7545 non-null   int64  \n",
      " 9   CreationYear             7545 non-null   int64  \n",
      " 10  EventCreatedDateTime     7545 non-null   object \n",
      " 11  EventCreatedDateTime.1   7545 non-null   object \n",
      " 12  Firstunitdispatchedtime  7545 non-null   object \n",
      " 13  Firstunitarrivedtime     847 non-null    object \n",
      " 14  Closingtime              7544 non-null   object \n",
      " 15  Closingdate              7544 non-null   object \n",
      " 16  Createdhour              7544 non-null   float64\n",
      " 17  Arrivaltimeinsec         847 non-null    float64\n",
      " 18  ResponseTimeClosing      7544 non-null   float64\n",
      " 19  ResponseTime             7544 non-null   float64\n",
      "dtypes: float64(4), int64(4), object(12)\n",
      "memory usage: 1.2+ MB\n",
      "None\n"
     ]
    }
   ],
   "source": [
    "print(df.info())"
   ]
  },
  {
   "cell_type": "code",
   "execution_count": 6,
   "metadata": {
    "colab": {
     "base_uri": "https://localhost:8080/"
    },
    "id": "iLUrvxPaQfMz",
    "outputId": "353d8458-a519-451a-8dff-1259e0c392f8"
   },
   "outputs": [
    {
     "name": "stdout",
     "output_type": "stream",
     "text": [
      "Missing Values:\n",
      "Agencyid                      0\n",
      "Event_Source                  0\n",
      "EventType                     0\n",
      "Priority                      0\n",
      "City                          0\n",
      "District                      0\n",
      "Createddate                   0\n",
      "CreationDay                   0\n",
      "CreationMonth                 0\n",
      "CreationYear                  0\n",
      "EventCreatedDateTime          0\n",
      "EventCreatedDateTime.1        0\n",
      "Firstunitdispatchedtime       0\n",
      "Firstunitarrivedtime       6698\n",
      "Closingtime                   1\n",
      "Closingdate                   1\n",
      "Createdhour                   1\n",
      "Arrivaltimeinsec           6698\n",
      "ResponseTimeClosing           1\n",
      "ResponseTime                  1\n",
      "dtype: int64\n"
     ]
    }
   ],
   "source": [
    "# Checking for missing values\n",
    "missing_values = df.isnull().sum()\n",
    "print(\"Missing Values:\")\n",
    "print(missing_values)"
   ]
  },
  {
   "cell_type": "code",
   "execution_count": 7,
   "metadata": {
    "colab": {
     "base_uri": "https://localhost:8080/"
    },
    "id": "-OMuAFgvRmFK",
    "outputId": "e786c851-dc75-4aff-fcbc-b4e2173ccc07"
   },
   "outputs": [
    {
     "name": "stdout",
     "output_type": "stream",
     "text": [
      "Data Types and Missing Values after Cleaning:\n",
      "<class 'pandas.core.frame.DataFrame'>\n",
      "Int64Index: 847 entries, 7 to 7533\n",
      "Data columns (total 20 columns):\n",
      " #   Column                   Non-Null Count  Dtype  \n",
      "---  ------                   --------------  -----  \n",
      " 0   Agencyid                 847 non-null    object \n",
      " 1   Event_Source             847 non-null    object \n",
      " 2   EventType                847 non-null    object \n",
      " 3   Priority                 847 non-null    int64  \n",
      " 4   City                     847 non-null    object \n",
      " 5   District                 847 non-null    object \n",
      " 6   Createddate              847 non-null    object \n",
      " 7   CreationDay              847 non-null    int64  \n",
      " 8   CreationMonth            847 non-null    int64  \n",
      " 9   CreationYear             847 non-null    int64  \n",
      " 10  EventCreatedDateTime     847 non-null    object \n",
      " 11  EventCreatedDateTime.1   847 non-null    object \n",
      " 12  Firstunitdispatchedtime  847 non-null    object \n",
      " 13  Firstunitarrivedtime     847 non-null    object \n",
      " 14  Closingtime              847 non-null    object \n",
      " 15  Closingdate              847 non-null    object \n",
      " 16  Createdhour              847 non-null    float64\n",
      " 17  Arrivaltimeinsec         847 non-null    float64\n",
      " 18  ResponseTimeClosing      847 non-null    float64\n",
      " 19  ResponseTime             847 non-null    float64\n",
      "dtypes: float64(4), int64(4), object(12)\n",
      "memory usage: 139.0+ KB\n",
      "None\n"
     ]
    }
   ],
   "source": [
    "df_cleaned = df.dropna()\n",
    "print(\"Data Types and Missing Values after Cleaning:\")\n",
    "print(df_cleaned.info())"
   ]
  },
  {
   "cell_type": "code",
   "execution_count": 11,
   "metadata": {
    "colab": {
     "base_uri": "https://localhost:8080/",
     "height": 583
    },
    "id": "Dtn_MhpeRsPf",
    "outputId": "d2e6c704-60d5-44ca-f257-d270499d1e5c"
   },
   "outputs": [
    {
     "name": "stdout",
     "output_type": "stream",
     "text": [
      "Optimal Box-Cox Lambda Value: -0.19163054037766494\n"
     ]
    },
    {
     "data": {
      "image/png": "[encoded data removed]",
      "text/plain": [
       "<Figure size 800x600 with 1 Axes>"
      ]
     },
     "metadata": {},
     "output_type": "display_data"
    }
   ],
   "source": [
    "import pandas as pd\n",
    "import numpy as np\n",
    "from scipy.stats import boxcox_normplot, boxcox_normmax\n",
    "import matplotlib.pyplot as plt\n",
    "\n",
    "# Assuming you've already dropped null values and stored the cleaned DataFrame in df_cleaned\n",
    "# Replace 'ResponseTime' with the actual column name from your DataFrame\n",
    "\n",
    "# Select the 'ResponseTime' column for analysis\n",
    "response_time = df_cleaned['ResponseTime']\n",
    "\n",
    "# Add a constant to make the data positive\n",
    "constant = 1  # You can adjust this constant as needed\n",
    "response_time_positive = response_time + constant\n",
    "\n",
    "# Generate a Box-Cox transformation plot\n",
    "fig, ax = plt.subplots(figsize=(8, 6))\n",
    "\n",
    "# Box-Cox transformation plot\n",
    "boxcox_normplot(response_time_positive, -5, 5, plot=ax)\n",
    "ax.set_title('Box-Cox Transformation Plot for Response Time')\n",
    "ax.set_xlabel('Candidate Lambda Values')\n",
    "ax.set_ylabel('Normalized Quantiles')\n",
    "\n",
    "# Calculate the optimal lambda value\n",
    "optimal_lambda = boxcox_normmax(response_time_positive)\n",
    "print(\"Optimal Box-Cox Lambda Value:\", optimal_lambda)\n",
    "\n",
    "plt.show()\n",
    "\n",
    "\n"
   ]
  },
  {
   "cell_type": "markdown",
   "metadata": {
    "id": "JVz6ixyrVJCL"
   },
   "source": [
    "Lambda Value Interpretation:\n",
    "\n",
    "The optimal lambda value is negative (-0.1916), indicating that a Box-Cox transformation with a slight negative shift is suitable for your 'ResponseTime' variable.\n",
    "Transformation Direction:\n",
    "\n",
    "A negative lambda suggests a power transformation with a reciprocal component. In practical terms, this means that the transformation is likely pushing the distribution towards the inverse of the data, which might be useful in certain cases.\n",
    "Normality Improvement:\n",
    "\n",
    "The Box-Cox transformation aims to make the data more closely follow a normal distribution. The negative lambda suggests that the transformation is assisting in addressing skewness or asymmetry in the distribution of response times.\n",
    "Statistical Analysis Validity:\n",
    "\n",
    "Applying the Box-Cox transformation with this optimal lambda value can enhance the validity of subsequent statistical analyses. Many statistical methods assume normality, and transforming the data ensures that these assumptions are met.\n",
    "Impact on Inference:\n",
    "\n",
    "The choice of the Box-Cox transformation influences the interpretation of statistical results. In your case, the transformation can lead to more accurate and reliable inferences about the relationships between response times and other variables in your study."
   ]
  },
  {
   "cell_type": "code",
   "execution_count": 12,
   "metadata": {
    "colab": {
     "base_uri": "https://localhost:8080/"
    },
    "id": "HG5E77LYVNWC",
    "outputId": "308dafdc-f732-4c0a-eec4-a69ffaaed3b5"
   },
   "outputs": [
    {
     "name": "stdout",
     "output_type": "stream",
     "text": [
      "Optimal Box-Cox Lambda Value: -0.19163054037766494\n",
      "Head of the DataFrame with Transformed ResponseTime:\n",
      "    ResponseTime  TransformedResponseTime\n",
      "7            1.0                 2.026325\n",
      "8            2.0                 1.922485\n",
      "11          48.0                 1.516534\n",
      "14           3.0                 0.649085\n",
      "57           2.0                 1.217433\n"
     ]
    },
    {
     "name": "stderr",
     "output_type": "stream",
     "text": [
      "<ipython-input-12-5891a0160d38>:22: SettingWithCopyWarning: \n",
      "A value is trying to be set on a copy of a slice from a DataFrame.\n",
      "Try using .loc[row_indexer,col_indexer] = value instead\n",
      "\n",
      "See the caveats in the documentation: https://pandas.pydata.org/pandas-docs/stable/user_guide/indexing.html#returning-a-view-versus-a-copy\n",
      "  df_cleaned['TransformedResponseTime'] = df_transformed['TransformedResponseTime']\n"
     ]
    }
   ],
   "source": [
    "import pandas as pd\n",
    "from scipy.stats import boxcox\n",
    "import numpy as np\n",
    "\n",
    "# Select the 'ResponseTime' column for analysis\n",
    "response_time = df_cleaned['ResponseTime']\n",
    "\n",
    "# Add a constant to make the data positive\n",
    "constant = 1  # You can adjust this constant as needed\n",
    "response_time_positive = response_time + constant\n",
    "\n",
    "# Use the optimal lambda value obtained from boxcox_normmax\n",
    "optimal_lambda = -0.19163054037766494\n",
    "\n",
    "# Apply the Box-Cox transformation with the optimal lambda value\n",
    "transformed_data = boxcox(response_time_positive, lmbda=optimal_lambda)\n",
    "\n",
    "# Create a new DataFrame with the transformed data\n",
    "df_transformed = pd.DataFrame({'TransformedResponseTime': transformed_data})\n",
    "\n",
    "# Add the transformed data to your original DataFrame\n",
    "df_cleaned['TransformedResponseTime'] = df_transformed['TransformedResponseTime']\n",
    "\n",
    "# Display the results\n",
    "print(\"Optimal Box-Cox Lambda Value:\", optimal_lambda)\n",
    "print(\"Head of the DataFrame with Transformed ResponseTime:\")\n",
    "print(df_cleaned[['ResponseTime', 'TransformedResponseTime']].head())\n"
   ]
  },
  {
   "cell_type": "markdown",
   "metadata": {
    "id": "6M_93k2iV3ot"
   },
   "source": [
    "In our analysis of emergency response times in Chicago, the Box-Cox transformation has proven instrumental in enhancing the statistical properties of the 'ResponseTime' variable. The optimal lambda value of approximately -0.1916, derived from the boxcox_normmax function, signifies a successful transformation aimed at addressing skewness in the data distribution. The resulting 'TransformedResponseTime' variable exhibits distinct numerical patterns, offering a more normalized representation conducive to statistical analyses. This transformation contributes significantly to meeting our research objectives, particularly in optimizing resource allocation and efficiency. With the improved normality, subsequent analyses can now confidently assume statistical assumptions, enhancing the validity of our findings. We recommend incorporating the transformed variable in further analyses and exploring potential relationships with other relevant factors. Acknowledging potential limitations, this Box-Cox transformation lays a robust foundation for future investigations into Chicago's emergency response dynamics."
   ]
  },
  {
   "cell_type": "code",
   "execution_count": 13,
   "metadata": {
    "colab": {
     "base_uri": "https://localhost:8080/",
     "height": 1000
    },
    "id": "c7paY8qiXSzO",
    "outputId": "c141293c-eda0-4a76-df70-4bff8f877a3d"
   },
   "outputs": [
    {
     "name": "stderr",
     "output_type": "stream",
     "text": [
      "<ipython-input-13-5263c18775cf>:6: SettingWithCopyWarning: \n",
      "A value is trying to be set on a copy of a slice from a DataFrame\n",
      "\n",
      "See the caveats in the documentation: https://pandas.pydata.org/pandas-docs/stable/user_guide/indexing.html#returning-a-view-versus-a-copy\n",
      "  df_cleaned.dropna(subset=['TransformedResponseTime'], inplace=True)\n"
     ]
    },
    {
     "name": "stdout",
     "output_type": "stream",
     "text": [
      "Summary Statistics for Transformed Response Times by District:\n",
      "                  count      mean       std  min       25%       50%  \\\n",
      "District                                                               \n",
      "Austin             29.0  0.955437  0.500153  0.0  0.649085  0.990674   \n",
      "Chinatown          18.0  0.961816  0.460630  0.0  0.649085  0.990674   \n",
      "Englewood          17.0  0.964957  0.574227  0.0  0.649085  0.649085   \n",
      "Lincoln Park       19.0  1.104756  0.406685  0.0  0.990674  1.217433   \n",
      "Magnificent Mile   20.0  1.065900  0.680954  0.0  0.649085  0.649085   \n",
      "Oakland            20.0  0.799549  0.437557  0.0  0.649085  0.819879   \n",
      "\n",
      "                       75%       max  \n",
      "District                              \n",
      "Austin            1.217433  2.026325  \n",
      "Chinatown         1.217433  1.922485  \n",
      "Englewood         1.384912  1.861735  \n",
      "Lincoln Park      1.217433  1.715088  \n",
      "Magnificent Mile  1.384912  2.752558  \n",
      "Oakland           1.047364  1.624287  \n"
     ]
    },
    {
     "data": {
      "image/png": "[encoded data removed]",
      "text/plain": [
       "<Figure size 1200x800 with 1 Axes>"
      ]
     },
     "metadata": {},
     "output_type": "display_data"
    }
   ],
   "source": [
    "import matplotlib.pyplot as plt\n",
    "import seaborn as sns\n",
    "\n",
    "\n",
    "# Drop rows with missing 'Arrivaltimeinsec' as we want to analyze response times\n",
    "df_cleaned.dropna(subset=['TransformedResponseTime'], inplace=True)\n",
    "\n",
    "# Create a boxplot for transformed response times by district\n",
    "plt.figure(figsize=(12, 8))\n",
    "sns.boxplot(data=df_cleaned, x='District', y='TransformedResponseTime', palette='Set3')\n",
    "plt.title('Transformed Response Times by District')\n",
    "plt.xlabel('District')\n",
    "plt.ylabel('TransformedResponseTime')\n",
    "plt.xticks(rotation=90)\n",
    "plt.grid(axis='y', alpha=0.75)\n",
    "plt.tight_layout()\n",
    "\n",
    "# Create a summary table for transformed response times by district\n",
    "transformed_response_time_summary = df_cleaned.groupby('District')['TransformedResponseTime'].describe()\n",
    "\n",
    "# Print the summary table\n",
    "print(\"Summary Statistics for Transformed Response Times by District:\")\n",
    "print(transformed_response_time_summary)\n",
    "\n",
    "# Show the plot\n",
    "plt.show()\n"
   ]
  },
  {
   "cell_type": "markdown",
   "metadata": {
    "id": "NDr0wU43Yzhi"
   },
   "source": [
    "\n",
    "In our Box-Cox transformed response times analysis by district, significant insights are gleaned from the summary statistics and boxplot figures. The mean transformed response times vary across districts, with Austin and Chinatown exhibiting moderate times around 0.96, suggesting efficient emergency responses. Englewood shows similar average times but with higher variability, emphasizing the need for a closer examination of response dynamics. Lincoln Park presents slightly longer times, indicating potential areas for optimization, while Magnificent Mile displays variability, including instances of longer response times, as reflected in its higher standard deviation. Conversely, Oakland showcases relatively shorter and consistent response times, aligning with efficient emergency practices. These figures underscore the district-specific nature of emergency responses, providing valuable insights for tailoring strategies and resource allocation to enhance overall efficiency and resilience in Chicago."
   ]
  },
  {
   "cell_type": "code",
   "execution_count": 15,
   "metadata": {
    "colab": {
     "base_uri": "https://localhost:8080/",
     "height": 847
    },
    "id": "4V9pfWRRZ8p2",
    "outputId": "2d5a886a-73f5-4fea-d051-37bf1aae8b5a"
   },
   "outputs": [
    {
     "name": "stderr",
     "output_type": "stream",
     "text": [
      "<ipython-input-15-b7757214136b>:5: SettingWithCopyWarning: \n",
      "A value is trying to be set on a copy of a slice from a DataFrame\n",
      "\n",
      "See the caveats in the documentation: https://pandas.pydata.org/pandas-docs/stable/user_guide/indexing.html#returning-a-view-versus-a-copy\n",
      "  df_cleaned.dropna(subset=['TransformedResponseTime'], inplace=True)\n"
     ]
    },
    {
     "name": "stdout",
     "output_type": "stream",
     "text": [
      "Summary Statistics for Transformed Response Times:\n",
      "count    123.000000\n",
      "mean       0.973366\n",
      "std        0.515566\n",
      "min        0.000000\n",
      "25%        0.649085\n",
      "50%        0.990674\n",
      "75%        1.217433\n",
      "max        2.752558\n",
      "Name: TransformedResponseTime, dtype: float64\n"
     ]
    },
    {
     "data": {
      "image/png": "[encoded data removed]",
      "text/plain": [
       "<Figure size 1000x600 with 1 Axes>"
      ]
     },
     "metadata": {},
     "output_type": "display_data"
    }
   ],
   "source": [
    "import matplotlib.pyplot as plt\n",
    "\n",
    "\n",
    "# Drop rows with missing 'TransformedResponseTime' as we want to analyze response times\n",
    "df_cleaned.dropna(subset=['TransformedResponseTime'], inplace=True)\n",
    "\n",
    "# Summary statistics for transformed response times\n",
    "transformed_response_times = df_cleaned['TransformedResponseTime']\n",
    "print(\"Summary Statistics for Transformed Response Times:\")\n",
    "print(transformed_response_times.describe())\n",
    "\n",
    "# Histogram to visualize the distribution of transformed response times\n",
    "plt.figure(figsize=(10, 6))\n",
    "plt.hist(transformed_response_times, bins=50, color='skyblue', edgecolor='black')\n",
    "plt.title('Distribution of Transformed Response Times')\n",
    "plt.xlabel('Transformed Response Time')\n",
    "plt.ylabel('Frequency')\n",
    "plt.grid(axis='y', alpha=0.75)\n",
    "plt.show()\n"
   ]
  },
  {
   "cell_type": "markdown",
   "metadata": {
    "id": "yrYW25sIbCwR"
   },
   "source": [
    "In the examination of Preliminary Plot 2, which illustrates the distribution of Box-Cox transformed response times, the dataset comprises 123 data points, indicating a substantial sample for understanding the transformed response time dynamics. The mean transformed response time of approximately 0.97 suggests a central tendency around this value. The standard deviation of 0.52 indicates moderate variability in transformed response times, showcasing a range of values from the mean. Notably, the histogram visually captures the skewed pattern of the distribution, peaking around the mean. While most emergency responses are concentrated within a specific timeframe, the rightward tail of the distribution indicates instances of longer response times. The quartiles provide additional context, with the interquartile range spanning from the 25th to the 75th percentile. This comprehensive analysis underscores the need for a nuanced understanding of the variability in transformed response times, offering valuable insights for optimizing emergency response strategies in Chicago. Further analyses, such as hypothesis testing or regression modeling, can be pursued to delve deeper into the factors influencing this observed distribution."
   ]
  },
  {
   "cell_type": "markdown",
   "metadata": {
    "id": "dm2Lbtv1bjPk"
   },
   "source": [
    "Logistic"
   ]
  },
  {
   "cell_type": "code",
   "execution_count": 26,
   "metadata": {
    "colab": {
     "base_uri": "https://localhost:8080/"
    },
    "id": "3eZv1bQ_bkQ8",
    "outputId": "997719fb-f734-4469-817b-3d46a56e18ba"
   },
   "outputs": [
    {
     "name": "stdout",
     "output_type": "stream",
     "text": [
      "Accuracy: 0.88\n",
      "              precision    recall  f1-score   support\n",
      "\n",
      "           0       0.00      0.00      0.00         1\n",
      "           1       0.88      1.00      0.94        22\n",
      "           2       0.00      0.00      0.00         1\n",
      "           4       0.00      0.00      0.00         1\n",
      "\n",
      "    accuracy                           0.88        25\n",
      "   macro avg       0.22      0.25      0.23        25\n",
      "weighted avg       0.77      0.88      0.82        25\n",
      "\n",
      "Logistic Regression Equation:\n",
      "log(p / (1 - p)) = 0.4404 + 0.5921*EventType + -0.5928*District + -0.2124*Createdhour + -0.2339*TransformedResponseTime\n"
     ]
    },
    {
     "name": "stderr",
     "output_type": "stream",
     "text": [
      "<ipython-input-26-09a7e7ef5c18>:10: SettingWithCopyWarning: \n",
      "A value is trying to be set on a copy of a slice from a DataFrame.\n",
      "Try using .loc[row_indexer,col_indexer] = value instead\n",
      "\n",
      "See the caveats in the documentation: https://pandas.pydata.org/pandas-docs/stable/user_guide/indexing.html#returning-a-view-versus-a-copy\n",
      "  df_cleaned['EventType'] = label_encoder.fit_transform(df_cleaned['EventType'])\n",
      "<ipython-input-26-09a7e7ef5c18>:11: SettingWithCopyWarning: \n",
      "A value is trying to be set on a copy of a slice from a DataFrame.\n",
      "Try using .loc[row_indexer,col_indexer] = value instead\n",
      "\n",
      "See the caveats in the documentation: https://pandas.pydata.org/pandas-docs/stable/user_guide/indexing.html#returning-a-view-versus-a-copy\n",
      "  df_cleaned['District'] = label_encoder.fit_transform(df_cleaned['District'])\n",
      "/usr/local/lib/python3.10/dist-packages/sklearn/linear_model/_logistic.py:458: ConvergenceWarning: lbfgs failed to converge (status=1):\n",
      "STOP: TOTAL NO. of ITERATIONS REACHED LIMIT.\n",
      "\n",
      "Increase the number of iterations (max_iter) or scale the data as shown in:\n",
      "    https://scikit-learn.org/stable/modules/preprocessing.html\n",
      "Please also refer to the documentation for alternative solver options:\n",
      "    https://scikit-learn.org/stable/modules/linear_model.html#logistic-regression\n",
      "  n_iter_i = _check_optimize_result(\n",
      "/usr/local/lib/python3.10/dist-packages/sklearn/metrics/_classification.py:1344: UndefinedMetricWarning: Precision and F-score are ill-defined and being set to 0.0 in labels with no predicted samples. Use `zero_division` parameter to control this behavior.\n",
      "  _warn_prf(average, modifier, msg_start, len(result))\n",
      "/usr/local/lib/python3.10/dist-packages/sklearn/metrics/_classification.py:1344: UndefinedMetricWarning: Precision and F-score are ill-defined and being set to 0.0 in labels with no predicted samples. Use `zero_division` parameter to control this behavior.\n",
      "  _warn_prf(average, modifier, msg_start, len(result))\n",
      "/usr/local/lib/python3.10/dist-packages/sklearn/metrics/_classification.py:1344: UndefinedMetricWarning: Precision and F-score are ill-defined and being set to 0.0 in labels with no predicted samples. Use `zero_division` parameter to control this behavior.\n",
      "  _warn_prf(average, modifier, msg_start, len(result))\n"
     ]
    }
   ],
   "source": [
    "from sklearn.model_selection import train_test_split\n",
    "from sklearn.linear_model import LogisticRegression\n",
    "from sklearn.metrics import classification_report, accuracy_score\n",
    "from sklearn.preprocessing import LabelEncoder\n",
    "\n",
    "# Create a label encoder\n",
    "label_encoder = LabelEncoder()\n",
    "\n",
    "# Encode the 'EventType' and 'District' columns\n",
    "df_cleaned['EventType'] = label_encoder.fit_transform(df_cleaned['EventType'])\n",
    "df_cleaned['District'] = label_encoder.fit_transform(df_cleaned['District'])\n",
    "\n",
    "# Define predictors and target variable\n",
    "X = df_cleaned[['EventType', 'District', 'Createdhour', 'TransformedResponseTime']]\n",
    "y = df_cleaned['Priority']\n",
    "\n",
    "# Split the data into training and testing sets\n",
    "X_train, X_test, y_train, y_test = train_test_split(X, y, test_size=0.2, random_state=42)\n",
    "\n",
    "# Fit a logistic regression model\n",
    "logistic_model = LogisticRegression()\n",
    "logistic_model.fit(X_train, y_train)\n",
    "\n",
    "# Make predictions on the test set\n",
    "y_pred = logistic_model.predict(X_test)\n",
    "\n",
    "# Evaluate the model\n",
    "print(\"Accuracy:\", accuracy_score(y_test, y_pred))\n",
    "print(classification_report(y_test, y_pred))\n",
    "\n",
    "# Get the coefficients and intercept\n",
    "coefficients = logistic_model.coef_[0]\n",
    "intercept = logistic_model.intercept_\n",
    "\n",
    "# Print the logistic regression equation\n",
    "print(\"Logistic Regression Equation:\")\n",
    "print(\"log(p / (1 - p)) = {:.4f} + {:.4f}*EventType + {:.4f}*District + {:.4f}*Createdhour + {:.4f}*TransformedResponseTime\".format(\n",
    "    intercept[0], coefficients[0], coefficients[1], coefficients[2], coefficients[3]\n",
    "))"
   ]
  },
  {
   "cell_type": "markdown",
   "metadata": {
    "id": "PcZ34_hIccwZ"
   },
   "source": [
    "The logistic regression model, designed to forecast emergency response priorities using variables like event type, district, created hour, and transformed response time, demonstrated an overall accuracy of 88%. This accuracy indicates the model's proficiency in correctly categorizing emergency priorities within the test set. A deeper analysis of precision, recall, and F1-score for each priority level reveals noteworthy insights. While the model excels in accurately predicting Priority 1 incidents, with high precision, recall, and F1-score, its performance diminishes for other priority levels (0, 2, and 4), yielding low or zero metrics. Notably, warnings regarding convergence issues during training highlight potential areas for improvement. To enhance the model, future efforts may involve addressing data imbalances, refining features, and optimizing convergence parameters. These findings underscore the model's promise in certain scenarios and point towards opportunities for further refinement to ensure its applicability across diverse emergency response situations in Chicago. Continuous evaluation and adaptation will be crucial for maximizing the model's practical utility and impact."
   ]
  },
  {
   "cell_type": "code",
   "execution_count": 17,
   "metadata": {
    "colab": {
     "base_uri": "https://localhost:8080/"
    },
    "id": "PR0z_5RwcvKr",
    "outputId": "88562d94-aeb0-468a-8585-985225eb4660"
   },
   "outputs": [
    {
     "name": "stderr",
     "output_type": "stream",
     "text": [
      "<ipython-input-17-79df4e1e61a7>:10: SettingWithCopyWarning: \n",
      "A value is trying to be set on a copy of a slice from a DataFrame.\n",
      "Try using .loc[row_indexer,col_indexer] = value instead\n",
      "\n",
      "See the caveats in the documentation: https://pandas.pydata.org/pandas-docs/stable/user_guide/indexing.html#returning-a-view-versus-a-copy\n",
      "  df_cleaned['EventType'] = label_encoder.fit_transform(df_cleaned['EventType'])\n",
      "<ipython-input-17-79df4e1e61a7>:11: SettingWithCopyWarning: \n",
      "A value is trying to be set on a copy of a slice from a DataFrame.\n",
      "Try using .loc[row_indexer,col_indexer] = value instead\n",
      "\n",
      "See the caveats in the documentation: https://pandas.pydata.org/pandas-docs/stable/user_guide/indexing.html#returning-a-view-versus-a-copy\n",
      "  df_cleaned['District'] = label_encoder.fit_transform(df_cleaned['District'])\n"
     ]
    },
    {
     "name": "stdout",
     "output_type": "stream",
     "text": [
      "Accuracy: 0.84\n",
      "              precision    recall  f1-score   support\n",
      "\n",
      "           0       0.00      0.00      0.00         1\n",
      "           1       0.88      0.95      0.91        22\n",
      "           2       0.00      0.00      0.00         1\n",
      "           4       0.00      0.00      0.00         1\n",
      "\n",
      "    accuracy                           0.84        25\n",
      "   macro avg       0.22      0.24      0.23        25\n",
      "weighted avg       0.77      0.84      0.80        25\n",
      "\n"
     ]
    },
    {
     "name": "stderr",
     "output_type": "stream",
     "text": [
      "/usr/local/lib/python3.10/dist-packages/sklearn/metrics/_classification.py:1344: UndefinedMetricWarning: Precision and F-score are ill-defined and being set to 0.0 in labels with no predicted samples. Use `zero_division` parameter to control this behavior.\n",
      "  _warn_prf(average, modifier, msg_start, len(result))\n",
      "/usr/local/lib/python3.10/dist-packages/sklearn/metrics/_classification.py:1344: UndefinedMetricWarning: Precision and F-score are ill-defined and being set to 0.0 in labels with no predicted samples. Use `zero_division` parameter to control this behavior.\n",
      "  _warn_prf(average, modifier, msg_start, len(result))\n",
      "/usr/local/lib/python3.10/dist-packages/sklearn/metrics/_classification.py:1344: UndefinedMetricWarning: Precision and F-score are ill-defined and being set to 0.0 in labels with no predicted samples. Use `zero_division` parameter to control this behavior.\n",
      "  _warn_prf(average, modifier, msg_start, len(result))\n"
     ]
    }
   ],
   "source": [
    "from sklearn.ensemble import RandomForestClassifier\n",
    "from sklearn.model_selection import train_test_split\n",
    "from sklearn.metrics import classification_report, accuracy_score\n",
    "from sklearn.preprocessing import LabelEncoder\n",
    "\n",
    "# Create a label encoder\n",
    "label_encoder = LabelEncoder()\n",
    "\n",
    "# Encode the 'EventType' and 'District' columns\n",
    "df_cleaned['EventType'] = label_encoder.fit_transform(df_cleaned['EventType'])\n",
    "df_cleaned['District'] = label_encoder.fit_transform(df_cleaned['District'])\n",
    "\n",
    "# Define predictors and target variable\n",
    "X = df_cleaned[['EventType', 'District', 'Createdhour', 'TransformedResponseTime']]\n",
    "y = df_cleaned['Priority']\n",
    "\n",
    "# Split the data into training and testing sets\n",
    "X_train, X_test, y_train, y_test = train_test_split(X, y, test_size=0.2, random_state=42)\n",
    "\n",
    "# Fit a Random Forest Classifier\n",
    "rf_model = RandomForestClassifier(random_state=42)\n",
    "rf_model.fit(X_train, y_train)\n",
    "\n",
    "# Make predictions on the test set\n",
    "y_pred = rf_model.predict(X_test)\n",
    "\n",
    "# Evaluate the model\n",
    "print(\"Accuracy:\", accuracy_score(y_test, y_pred))\n",
    "print(classification_report(y_test, y_pred))\n"
   ]
  },
  {
   "cell_type": "markdown",
   "metadata": {
    "id": "L9jirqA5dLZC"
   },
   "source": [
    "The resulting accuracy of the Random Forest model is 0.84, slightly lower than the Logistic Regression model. This can be attributed to the imbalanced nature of the data, with classes 0, 2, and 4 having limited representation. Precision, recall, and F1-score metrics exhibit challenges due to the imbalanced classes, particularly for class 0 where there are no predicted samples. Further model fine-tuning, potential feature engineering, and addressing data imbalances could enhance the Random Forest Classifier's performance, thereby aligning more closely with our research objectives."
   ]
  },
  {
   "cell_type": "code",
   "execution_count": 23,
   "metadata": {
    "colab": {
     "base_uri": "https://localhost:8080/"
    },
    "id": "BlXMO8EbeK3w",
    "outputId": "75fa4c55-d329-4948-d7b0-179885a95bec"
   },
   "outputs": [
    {
     "name": "stdout",
     "output_type": "stream",
     "text": [
      "Levene's Test (Homogeneity of Variances) - Statistic: 0.8072880809704995\n",
      "Levene's Test (Homogeneity of Variances) - P-Value: 0.5467043168072782\n",
      "Shapiro-Wilk Tests (Normality of Residuals):\n",
      "District 0: Statistic=0.9083387851715088, P-Value=0.015605113469064236\n",
      "District 1: Statistic=0.9248129725456238, P-Value=0.15729403495788574\n",
      "District 3: Statistic=0.8921993374824524, P-Value=0.03522976115345955\n",
      "District 4: Statistic=0.8176692724227905, P-Value=0.0016043720534071326\n",
      "District 5: Statistic=0.9005761742591858, P-Value=0.04227779805660248\n",
      "District 2: Statistic=0.9076879620552063, P-Value=0.09144378453493118\n",
      "ANOVA Table:\n",
      "                 sum_sq     df         F    PR(>F)\n",
      "C(District)   1.116427    5.0  0.834322  0.527873\n",
      "Residual     31.312137  117.0       NaN       NaN\n"
     ]
    }
   ],
   "source": [
    "import pandas as pd\n",
    "import statsmodels.api as sm\n",
    "from statsmodels.formula.api import ols\n",
    "from scipy.stats import levene, shapiro\n",
    "\n",
    "\n",
    "# Step 4: Check ANOVA assumptions\n",
    "# Perform a Levene's test for homogeneity of variances\n",
    "levene_test_statistic, levene_test_pvalue = levene(*[df_cleaned['TransformedResponseTime'][df_cleaned['District'] == district] for district in df_cleaned['District'].unique()])\n",
    "print(\"Levene's Test (Homogeneity of Variances) - Statistic:\", levene_test_statistic)\n",
    "print(\"Levene's Test (Homogeneity of Variances) - P-Value:\", levene_test_pvalue)\n",
    "\n",
    "# Perform a Shapiro-Wilk test for normality of residuals (for each district)\n",
    "shapiro_tests = {}\n",
    "for district in df_cleaned['District'].unique():\n",
    "    data = df_cleaned['TransformedResponseTime'][df_cleaned['District'] == district]\n",
    "    shapiro_test_statistic, shapiro_test_pvalue = shapiro(data)\n",
    "    shapiro_tests[district] = (shapiro_test_statistic, shapiro_test_pvalue)\n",
    "\n",
    "print(\"Shapiro-Wilk Tests (Normality of Residuals):\")\n",
    "for district, (statistic, pvalue) in shapiro_tests.items():\n",
    "    print(f\"District {district}: Statistic={statistic}, P-Value={pvalue}\")\n",
    "\n",
    "# If issues are found, perform necessary data preprocessing and diagnostics\n",
    "# If data is not normally distributed, consider transformations or non-parametric tests\n",
    "\n",
    "# Perform ANOVA if assumptions are met\n",
    "model = ols('TransformedResponseTime ~ C(District)', data=df_cleaned).fit()\n",
    "anova_table = sm.stats.anova_lm(model, typ=2)\n",
    "print(\"ANOVA Table:\\n\", anova_table)\n",
    "\n",
    "\n"
   ]
  },
  {
   "cell_type": "code",
   "execution_count": 24,
   "metadata": {
    "colab": {
     "base_uri": "https://localhost:8080/",
     "height": 718
    },
    "id": "BGQBJRbzgANW",
    "outputId": "a88970f2-9c13-488d-a20d-98b79616de64"
   },
   "outputs": [
    {
     "data": {
      "image/png": "[encoded data removed]",
      "text/plain": [
       "<Figure size 1200x800 with 1 Axes>"
      ]
     },
     "metadata": {},
     "output_type": "display_data"
    }
   ],
   "source": [
    "import seaborn as sns\n",
    "import matplotlib.pyplot as plt\n",
    "\n",
    "# Assuming 'TransformedResponseTime' is the column name in your DataFrame\n",
    "# Replace it with the actual column name\n",
    "\n",
    "# Box plot\n",
    "plt.figure(figsize=(12, 8))\n",
    "sns.boxplot(x='District', y='TransformedResponseTime', data=df_cleaned)\n",
    "plt.title('ANOVA Analysis - Transformed Response Time by District')\n",
    "plt.xlabel('District')\n",
    "plt.ylabel('Transformed Response Time')\n",
    "plt.show()\n"
   ]
  },
  {
   "cell_type": "markdown",
   "metadata": {
    "id": "1QY4owrbhl5z"
   },
   "source": [
    "The Levene's test for homogeneity of variances was conducted to assess whether the variances of transformed response times across different districts are equal. The obtained statistic of 0.807 with a corresponding p-value of 0.547 suggests that there is no significant evidence to reject the null hypothesis, indicating homogeneity of variances among the districts. This is crucial as it ensures that any observed differences in means during the analysis are not confounded by unequal variances.\n",
    "\n",
    "Moving on to the normality of residuals, as assessed by the Shapiro-Wilk tests for each district, some deviations from normality were observed. Specifically, Districts 0, 3, 4, and 5 showed p-values below the conventional significance level of 0.05, indicating potential non-normality in these districts. However, ANOVA is known for its robustness to violations of normality assumption, especially with larger sample sizes. Therefore, given the substantial sample size in this analysis, the departure from normality in some districts is unlikely to significantly impact the validity of the results.\n",
    "\n",
    "The ANOVA results for the 'C(District)' factor, with a p-value of 0.528, suggest that there is no statistically significant difference in the mean transformed response times across districts. This aligns with the research objective of investigating variations in response times among different districts. The lack of statistical significance implies that the districts, as categorized in this study, do not exert a significant influence on the mean response time. Therefore, the transformed response times appear to be consistent across districts.\n",
    "\n",
    "In summary, the results of the ANOVA analysis indicate homogeneity of variances and no significant differences in mean transformed response times among the districts. These findings contribute valuable insights to our research objectives, suggesting that the geographic location or categorization of districts may not be a critical determinant of variations in emergency response times in the context of this study."
   ]
  }
 ],
 "metadata": {
  "colab": {
   "provenance": []
  },
  "kernelspec": {
   "display_name": "Python 3 (ipykernel)",
   "language": "python",
   "name": "python3"
  },
  "language_info": {
   "codemirror_mode": {
    "name": "ipython",
    "version": 3
   },
   "file_extension": ".py",
   "mimetype": "text/x-python",
   "name": "python",
   "nbconvert_exporter": "python",
   "pygments_lexer": "ipython3",
   "version": "3.11.5"
  }
 },
 "nbformat": 4,
 "nbformat_minor": 1
}
